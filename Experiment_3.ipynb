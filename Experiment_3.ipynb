{
 "cells": [
  {
   "cell_type": "code",
   "execution_count": null,
   "id": "a21fda6c",
   "metadata": {},
   "outputs": [],
   "source": [
    "# i) Convert BGR and RGB to HSV and GRAY"
   ]
  },
  {
   "cell_type": "code",
   "execution_count": 1,
   "id": "5af45d38",
   "metadata": {},
   "outputs": [
    {
     "data": {
      "text/plain": [
       "<function destroyAllWindows>"
      ]
     },
     "execution_count": 1,
     "metadata": {},
     "output_type": "execute_result"
    }
   ],
   "source": [
    "import cv2\n",
    "image =cv2.imread('horse.jfif')\n",
    "cv2.imshow('original',image)\n",
    "b_h=cv2.cvtColor(image,cv2.COLOR_BGR2HSV)\n",
    "cv2.imshow('BGR_HSV',b_h)\n",
    "cv2.waitKey(0)\n",
    "cv2.destroyAllWindows"
   ]
  },
  {
   "cell_type": "code",
   "execution_count": 3,
   "id": "448db8e1",
   "metadata": {},
   "outputs": [
    {
     "data": {
      "text/plain": [
       "<function destroyAllWindows>"
      ]
     },
     "execution_count": 3,
     "metadata": {},
     "output_type": "execute_result"
    }
   ],
   "source": [
    "b_g=cv2.cvtColor(image,cv2.COLOR_BGR2GRAY)\n",
    "cv2.imshow('BGR_GRAY',b_g)\n",
    "cv2.waitKey(0)\n",
    "cv2.destroyAllWindows\n",
    "\n",
    "\n"
   ]
  },
  {
   "cell_type": "code",
   "execution_count": 4,
   "id": "9015a9f6",
   "metadata": {},
   "outputs": [
    {
     "data": {
      "text/plain": [
       "<function destroyAllWindows>"
      ]
     },
     "execution_count": 4,
     "metadata": {},
     "output_type": "execute_result"
    }
   ],
   "source": [
    "r_g=cv2.cvtColor(image,cv2.COLOR_RGB2GRAY)\n",
    "cv2.imshow('RGB_GRAY',r_g)\n",
    "cv2.waitKey(0)\n",
    "cv2.destroyAllWindows"
   ]
  },
  {
   "cell_type": "code",
   "execution_count": 5,
   "id": "71d0212e",
   "metadata": {},
   "outputs": [
    {
     "data": {
      "text/plain": [
       "<function destroyAllWindows>"
      ]
     },
     "execution_count": 5,
     "metadata": {},
     "output_type": "execute_result"
    }
   ],
   "source": [
    "r_h=cv2.cvtColor(image,cv2.COLOR_RGB2HSV)\n",
    "cv2.imshow('RGB_HSV',r_h)\n",
    "cv2.waitKey(0)\n",
    "cv2.destroyAllWindows"
   ]
  },
  {
   "cell_type": "code",
   "execution_count": 4,
   "id": "e913513d",
   "metadata": {},
   "outputs": [],
   "source": [
    "# ii)Convert HSV to RGB and BGR"
   ]
  },
  {
   "cell_type": "code",
   "execution_count": 2,
   "id": "c01244fc",
   "metadata": {},
   "outputs": [],
   "source": [
    "import cv2"
   ]
  },
  {
   "cell_type": "code",
   "execution_count": 3,
   "id": "1faacc46",
   "metadata": {},
   "outputs": [
    {
     "data": {
      "text/plain": [
       "True"
      ]
     },
     "execution_count": 3,
     "metadata": {},
     "output_type": "execute_result"
    }
   ],
   "source": [
    "image1=cv2.imread('SEA.jpg')\n",
    "cv2.imshow('kadal',image1)\n",
    "hsv_sea=cv2.cvtColor(image1,cv2.COLOR_BGR2HSV)\n",
    "cv2.imwrite('hsv(SEA).jpg',hsv_sea)"
   ]
  },
  {
   "cell_type": "code",
   "execution_count": 4,
   "id": "fc135816",
   "metadata": {},
   "outputs": [
    {
     "data": {
      "text/plain": [
       "<function destroyAllWindows>"
      ]
     },
     "execution_count": 4,
     "metadata": {},
     "output_type": "execute_result"
    }
   ],
   "source": [
    "import cv2\n",
    "ori=cv2.imread('hsv(SEA).jpg')\n",
    "cv2.imshow('Original',ori)\n",
    "cv2.waitKey(0)\n",
    "cv2.destroyAllWindows"
   ]
  },
  {
   "cell_type": "code",
   "execution_count": 5,
   "id": "0f3bd625",
   "metadata": {},
   "outputs": [
    {
     "data": {
      "text/plain": [
       "<function destroyAllWindows>"
      ]
     },
     "execution_count": 5,
     "metadata": {},
     "output_type": "execute_result"
    }
   ],
   "source": [
    "h_r=cv2.cvtColor(ori,cv2.COLOR_HSV2RGB)\n",
    "cv2.imshow('HSV_RGB',h_r)\n",
    "cv2.waitKey(0)\n",
    "cv2.destroyAllWindows"
   ]
  },
  {
   "cell_type": "code",
   "execution_count": 6,
   "id": "6a7cd931",
   "metadata": {},
   "outputs": [
    {
     "data": {
      "text/plain": [
       "<function destroyAllWindows>"
      ]
     },
     "execution_count": 6,
     "metadata": {},
     "output_type": "execute_result"
    }
   ],
   "source": [
    "h_b=cv2.cvtColor(ori,cv2.COLOR_HSV2BGR)\n",
    "cv2.imshow('HSV_BGR',h_b)\n",
    "cv2.waitKey(0)\n",
    "cv2.destroyAllWindows"
   ]
  },
  {
   "cell_type": "code",
   "execution_count": null,
   "id": "56f98389",
   "metadata": {},
   "outputs": [],
   "source": [
    "# iii)Convert RGB and BGR to YCrCb"
   ]
  },
  {
   "cell_type": "code",
   "execution_count": 14,
   "id": "ce87a0d5",
   "metadata": {},
   "outputs": [
    {
     "data": {
      "text/plain": [
       "True"
      ]
     },
     "execution_count": 14,
     "metadata": {},
     "output_type": "execute_result"
    }
   ],
   "source": [
    "image1=cv2.imread('FLOWER1.jpg')\n",
    "rgb_flow=cv2.cvtColor(image1,cv2.COLOR_BGR2HSV)\n",
    "cv2.imwrite('rgb(flow1).jpg',rgb_flow)"
   ]
  },
  {
   "cell_type": "code",
   "execution_count": 15,
   "id": "e5ab97be",
   "metadata": {},
   "outputs": [],
   "source": [
    "ori=cv2.imread('rgb(flow1).jpg')"
   ]
  },
  {
   "cell_type": "code",
   "execution_count": 16,
   "id": "2ac59bbb",
   "metadata": {},
   "outputs": [
    {
     "data": {
      "text/plain": [
       "<function destroyAllWindows>"
      ]
     },
     "execution_count": 16,
     "metadata": {},
     "output_type": "execute_result"
    }
   ],
   "source": [
    "YCrCb_image = cv2.cvtColor(ori, cv2.COLOR_RGB2YCrCb)\n",
    "cv2.imshow('RGB_YCRCB',YCrCb_image)\n",
    "cv2.waitKey(0)\n",
    "cv2.destroyAllWindows"
   ]
  },
  {
   "cell_type": "code",
   "execution_count": 17,
   "id": "04aa6e1f",
   "metadata": {},
   "outputs": [
    {
     "data": {
      "text/plain": [
       "<function destroyAllWindows>"
      ]
     },
     "execution_count": 17,
     "metadata": {},
     "output_type": "execute_result"
    }
   ],
   "source": [
    "YCrCb_image = cv2.cvtColor(image1, cv2.COLOR_BGR2YCrCb)\n",
    "cv2.imshow('BGR_YCRCB',YCrCb_image)\n",
    "cv2.waitKey(0)\n",
    "cv2.destroyAllWindows"
   ]
  },
  {
   "cell_type": "code",
   "execution_count": null,
   "id": "f53fed9c",
   "metadata": {},
   "outputs": [],
   "source": []
  },
  {
   "cell_type": "code",
   "execution_count": 20,
   "id": "1ce989cd",
   "metadata": {},
   "outputs": [],
   "source": [
    "\n",
    "import cv2\n",
    "img = cv2.imread(\"horse.jfif\")\n",
    "img1= cv2.resize(img, (270,190))\n",
    "cv2\n",
    "b,g,r = cv2.split(img1)\n",
    "cv2.imshow(\"RED MODEL\", r)\n",
    "cv2.imshow(\"GREEN MODEL\", g)\n",
    "cv2.imshow(\"BLUE MODEL \", b)\n",
    "merger = cv2.merge([b,g,r])\n",
    "cv2.imshow(\"MERGED IMAGE\", merger )\n",
    "cv2.waitKey(0)\n",
    "cv2.destroyAllWindows()\n"
   ]
  },
  {
   "cell_type": "code",
   "execution_count": null,
   "id": "62dcb489",
   "metadata": {},
   "outputs": [],
   "source": []
  },
  {
   "cell_type": "code",
   "execution_count": null,
   "id": "9c1c4c99",
   "metadata": {},
   "outputs": [],
   "source": [
    "\n",
    "import cv2\n",
    "img = cv2.imread(\"hsv(SEA).jpg\")\n",
    "img1= cv2.resize(img, (270,190))\n",
    "hsv = cv2.cvtColor(img1 , cv2.COLOR_BGR2HSV)\n",
    "cv2.imshow(\"INITIAL_HSV \", hsv)\n",
    "h,s,v = cv2.split(hsv)\n",
    "cv2.imshow(\"RED MODEL\", h)\n",
    "cv2.imshow(\"GREEN MODEL\", s)\n",
    "cv2.imshow(\"BLUE MODEL \", v)\n",
    "merger = cv2.merge([h,s,v])\n",
    "cv2.imshow(\"MERGED IMAGE\", merger )\n",
    "cv2.waitKey(0)\n",
    "cv2.destroyAllWindows()\n"
   ]
  },
  {
   "cell_type": "code",
   "execution_count": null,
   "id": "37bbf798",
   "metadata": {},
   "outputs": [],
   "source": []
  }
 ],
 "metadata": {
  "kernelspec": {
   "display_name": "Python 3",
   "language": "python",
   "name": "python3"
  },
  "language_info": {
   "codemirror_mode": {
    "name": "ipython",
    "version": 3
   },
   "file_extension": ".py",
   "mimetype": "text/x-python",
   "name": "python",
   "nbconvert_exporter": "python",
   "pygments_lexer": "ipython3",
   "version": "3.8.8"
  }
 },
 "nbformat": 4,
 "nbformat_minor": 5
}
